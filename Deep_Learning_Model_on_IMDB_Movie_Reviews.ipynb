{
  "nbformat": 4,
  "nbformat_minor": 0,
  "metadata": {
    "colab": {
      "provenance": [],
      "gpuType": "T4"
    },
    "kernelspec": {
      "name": "python3",
      "display_name": "Python 3"
    },
    "language_info": {
      "name": "python"
    },
    "accelerator": "GPU"
  },
  "cells": [
    {
      "cell_type": "code",
      "source": [
        "import tensorflow as tf"
      ],
      "metadata": {
        "id": "pdW-PZydrYI2"
      },
      "execution_count": 1,
      "outputs": []
    },
    {
      "cell_type": "code",
      "source": [
        "import nltk\n",
        "import numpy as np\n",
        "import pandas as pd\n",
        "import io\n",
        "import string\n",
        "from sklearn.feature_extraction.text import CountVectorizer\n",
        "from sklearn.preprocessing import LabelEncoder\n",
        "from sklearn.model_selection import train_test_split\n",
        "from google.colab import files\n",
        "from bs4 import BeautifulSoup\n",
        "from nltk.corpus import stopwords\n",
        "from nltk.tokenize import word_tokenize\n",
        "from nltk.stem import SnowballStemmer\n",
        "from sklearn.feature_extraction.text import CountVectorizer\n",
        "from sklearn.preprocessing import LabelEncoder\n",
        "from tensorflow.keras import regularizers\n",
        "nltk.download('stopwords')\n",
        "nltk.download('punkt')"
      ],
      "metadata": {
        "colab": {
          "base_uri": "https://localhost:8080/"
        },
        "id": "yKrhgnU0rc7U",
        "outputId": "6dd8c344-1f3b-47ca-e5c6-8304001d1663"
      },
      "execution_count": 2,
      "outputs": [
        {
          "output_type": "stream",
          "name": "stderr",
          "text": [
            "[nltk_data] Downloading package stopwords to /root/nltk_data...\n",
            "[nltk_data]   Package stopwords is already up-to-date!\n",
            "[nltk_data] Downloading package punkt to /root/nltk_data...\n",
            "[nltk_data]   Package punkt is already up-to-date!\n"
          ]
        },
        {
          "output_type": "execute_result",
          "data": {
            "text/plain": [
              "True"
            ]
          },
          "metadata": {},
          "execution_count": 2
        }
      ]
    },
    {
      "cell_type": "markdown",
      "source": [
        "##**Collecting Data**"
      ],
      "metadata": {
        "id": "J-BO2SJksAXT"
      }
    },
    {
      "cell_type": "code",
      "source": [
        "uploaded = files.upload()\n",
        "data = pd.read_csv(io.BytesIO(uploaded[\"IMDB Dataset.csv\"]))"
      ],
      "metadata": {
        "colab": {
          "base_uri": "https://localhost:8080/",
          "height": 56
        },
        "id": "glFmgDf7rkFq",
        "outputId": "deb8e3cc-4c13-4114-a783-99153a7eda75"
      },
      "execution_count": null,
      "outputs": [
        {
          "output_type": "display_data",
          "data": {
            "text/plain": [
              "<IPython.core.display.HTML object>"
            ],
            "text/html": [
              "\n",
              "     <input type=\"file\" id=\"files-fd5f5bdf-1744-40d3-b911-bf5367186937\" name=\"files[]\" multiple disabled\n",
              "        style=\"border:none\" />\n",
              "     <output id=\"result-fd5f5bdf-1744-40d3-b911-bf5367186937\">\n",
              "      Upload widget is only available when the cell has been executed in the\n",
              "      current browser session. Please rerun this cell to enable.\n",
              "      </output>\n",
              "      <script>// Copyright 2017 Google LLC\n",
              "//\n",
              "// Licensed under the Apache License, Version 2.0 (the \"License\");\n",
              "// you may not use this file except in compliance with the License.\n",
              "// You may obtain a copy of the License at\n",
              "//\n",
              "//      http://www.apache.org/licenses/LICENSE-2.0\n",
              "//\n",
              "// Unless required by applicable law or agreed to in writing, software\n",
              "// distributed under the License is distributed on an \"AS IS\" BASIS,\n",
              "// WITHOUT WARRANTIES OR CONDITIONS OF ANY KIND, either express or implied.\n",
              "// See the License for the specific language governing permissions and\n",
              "// limitations under the License.\n",
              "\n",
              "/**\n",
              " * @fileoverview Helpers for google.colab Python module.\n",
              " */\n",
              "(function(scope) {\n",
              "function span(text, styleAttributes = {}) {\n",
              "  const element = document.createElement('span');\n",
              "  element.textContent = text;\n",
              "  for (const key of Object.keys(styleAttributes)) {\n",
              "    element.style[key] = styleAttributes[key];\n",
              "  }\n",
              "  return element;\n",
              "}\n",
              "\n",
              "// Max number of bytes which will be uploaded at a time.\n",
              "const MAX_PAYLOAD_SIZE = 100 * 1024;\n",
              "\n",
              "function _uploadFiles(inputId, outputId) {\n",
              "  const steps = uploadFilesStep(inputId, outputId);\n",
              "  const outputElement = document.getElementById(outputId);\n",
              "  // Cache steps on the outputElement to make it available for the next call\n",
              "  // to uploadFilesContinue from Python.\n",
              "  outputElement.steps = steps;\n",
              "\n",
              "  return _uploadFilesContinue(outputId);\n",
              "}\n",
              "\n",
              "// This is roughly an async generator (not supported in the browser yet),\n",
              "// where there are multiple asynchronous steps and the Python side is going\n",
              "// to poll for completion of each step.\n",
              "// This uses a Promise to block the python side on completion of each step,\n",
              "// then passes the result of the previous step as the input to the next step.\n",
              "function _uploadFilesContinue(outputId) {\n",
              "  const outputElement = document.getElementById(outputId);\n",
              "  const steps = outputElement.steps;\n",
              "\n",
              "  const next = steps.next(outputElement.lastPromiseValue);\n",
              "  return Promise.resolve(next.value.promise).then((value) => {\n",
              "    // Cache the last promise value to make it available to the next\n",
              "    // step of the generator.\n",
              "    outputElement.lastPromiseValue = value;\n",
              "    return next.value.response;\n",
              "  });\n",
              "}\n",
              "\n",
              "/**\n",
              " * Generator function which is called between each async step of the upload\n",
              " * process.\n",
              " * @param {string} inputId Element ID of the input file picker element.\n",
              " * @param {string} outputId Element ID of the output display.\n",
              " * @return {!Iterable<!Object>} Iterable of next steps.\n",
              " */\n",
              "function* uploadFilesStep(inputId, outputId) {\n",
              "  const inputElement = document.getElementById(inputId);\n",
              "  inputElement.disabled = false;\n",
              "\n",
              "  const outputElement = document.getElementById(outputId);\n",
              "  outputElement.innerHTML = '';\n",
              "\n",
              "  const pickedPromise = new Promise((resolve) => {\n",
              "    inputElement.addEventListener('change', (e) => {\n",
              "      resolve(e.target.files);\n",
              "    });\n",
              "  });\n",
              "\n",
              "  const cancel = document.createElement('button');\n",
              "  inputElement.parentElement.appendChild(cancel);\n",
              "  cancel.textContent = 'Cancel upload';\n",
              "  const cancelPromise = new Promise((resolve) => {\n",
              "    cancel.onclick = () => {\n",
              "      resolve(null);\n",
              "    };\n",
              "  });\n",
              "\n",
              "  // Wait for the user to pick the files.\n",
              "  const files = yield {\n",
              "    promise: Promise.race([pickedPromise, cancelPromise]),\n",
              "    response: {\n",
              "      action: 'starting',\n",
              "    }\n",
              "  };\n",
              "\n",
              "  cancel.remove();\n",
              "\n",
              "  // Disable the input element since further picks are not allowed.\n",
              "  inputElement.disabled = true;\n",
              "\n",
              "  if (!files) {\n",
              "    return {\n",
              "      response: {\n",
              "        action: 'complete',\n",
              "      }\n",
              "    };\n",
              "  }\n",
              "\n",
              "  for (const file of files) {\n",
              "    const li = document.createElement('li');\n",
              "    li.append(span(file.name, {fontWeight: 'bold'}));\n",
              "    li.append(span(\n",
              "        `(${file.type || 'n/a'}) - ${file.size} bytes, ` +\n",
              "        `last modified: ${\n",
              "            file.lastModifiedDate ? file.lastModifiedDate.toLocaleDateString() :\n",
              "                                    'n/a'} - `));\n",
              "    const percent = span('0% done');\n",
              "    li.appendChild(percent);\n",
              "\n",
              "    outputElement.appendChild(li);\n",
              "\n",
              "    const fileDataPromise = new Promise((resolve) => {\n",
              "      const reader = new FileReader();\n",
              "      reader.onload = (e) => {\n",
              "        resolve(e.target.result);\n",
              "      };\n",
              "      reader.readAsArrayBuffer(file);\n",
              "    });\n",
              "    // Wait for the data to be ready.\n",
              "    let fileData = yield {\n",
              "      promise: fileDataPromise,\n",
              "      response: {\n",
              "        action: 'continue',\n",
              "      }\n",
              "    };\n",
              "\n",
              "    // Use a chunked sending to avoid message size limits. See b/62115660.\n",
              "    let position = 0;\n",
              "    do {\n",
              "      const length = Math.min(fileData.byteLength - position, MAX_PAYLOAD_SIZE);\n",
              "      const chunk = new Uint8Array(fileData, position, length);\n",
              "      position += length;\n",
              "\n",
              "      const base64 = btoa(String.fromCharCode.apply(null, chunk));\n",
              "      yield {\n",
              "        response: {\n",
              "          action: 'append',\n",
              "          file: file.name,\n",
              "          data: base64,\n",
              "        },\n",
              "      };\n",
              "\n",
              "      let percentDone = fileData.byteLength === 0 ?\n",
              "          100 :\n",
              "          Math.round((position / fileData.byteLength) * 100);\n",
              "      percent.textContent = `${percentDone}% done`;\n",
              "\n",
              "    } while (position < fileData.byteLength);\n",
              "  }\n",
              "\n",
              "  // All done.\n",
              "  yield {\n",
              "    response: {\n",
              "      action: 'complete',\n",
              "    }\n",
              "  };\n",
              "}\n",
              "\n",
              "scope.google = scope.google || {};\n",
              "scope.google.colab = scope.google.colab || {};\n",
              "scope.google.colab._files = {\n",
              "  _uploadFiles,\n",
              "  _uploadFilesContinue,\n",
              "};\n",
              "})(self);\n",
              "</script> "
            ]
          },
          "metadata": {}
        }
      ]
    },
    {
      "cell_type": "code",
      "source": [
        "data = data[:8000]"
      ],
      "metadata": {
        "id": "zpMpB-HNJ5rq"
      },
      "execution_count": 4,
      "outputs": []
    },
    {
      "cell_type": "code",
      "source": [
        "print(data.head())\n",
        "print(data.shape)\n",
        "print(data['sentiment'].value_counts())"
      ],
      "metadata": {
        "colab": {
          "base_uri": "https://localhost:8080/"
        },
        "id": "rDKc-KZgrzaX",
        "outputId": "082a92f9-77af-47a6-8dbf-fd1b5dc9fbf1"
      },
      "execution_count": 5,
      "outputs": [
        {
          "output_type": "stream",
          "name": "stdout",
          "text": [
            "                                              review sentiment\n",
            "0  One of the other reviewers has mentioned that ...  positive\n",
            "1  A wonderful little production. <br /><br />The...  positive\n",
            "2  I thought this was a wonderful way to spend ti...  positive\n",
            "3  Basically there's a family where a little boy ...  negative\n",
            "4  Petter Mattei's \"Love in the Time of Money\" is...  positive\n",
            "(8000, 2)\n",
            "positive    4003\n",
            "negative    3997\n",
            "Name: sentiment, dtype: int64\n"
          ]
        }
      ]
    },
    {
      "cell_type": "markdown",
      "source": [
        "Dataset is balanced.\n",
        "\n"
      ],
      "metadata": {
        "id": "ra6ked1RwUm-"
      }
    },
    {
      "cell_type": "code",
      "source": [
        "reviews = data['review']\n",
        "print(reviews.head())\n",
        "print(reviews.shape)\n",
        "sentiment = data['sentiment']\n",
        "print(sentiment.head())\n",
        "print(sentiment.shape)"
      ],
      "metadata": {
        "colab": {
          "base_uri": "https://localhost:8080/"
        },
        "id": "ERTNLPwSwTgs",
        "outputId": "ad2cc75b-7651-4e6b-9869-e883e7bb91b3"
      },
      "execution_count": 6,
      "outputs": [
        {
          "output_type": "stream",
          "name": "stdout",
          "text": [
            "0    One of the other reviewers has mentioned that ...\n",
            "1    A wonderful little production. <br /><br />The...\n",
            "2    I thought this was a wonderful way to spend ti...\n",
            "3    Basically there's a family where a little boy ...\n",
            "4    Petter Mattei's \"Love in the Time of Money\" is...\n",
            "Name: review, dtype: object\n",
            "(8000,)\n",
            "0    positive\n",
            "1    positive\n",
            "2    positive\n",
            "3    negative\n",
            "4    positive\n",
            "Name: sentiment, dtype: object\n",
            "(8000,)\n"
          ]
        }
      ]
    },
    {
      "cell_type": "markdown",
      "source": [
        "PreProcessing The Data For ML"
      ],
      "metadata": {
        "id": "dAxOgEE9w57z"
      }
    },
    {
      "cell_type": "code",
      "source": [
        "def preprocess_text(review):\n",
        "    #remove html tags\n",
        "    soup = BeautifulSoup(review, 'html.parser')\n",
        "    review_with_no_html = soup.get_text()\n",
        "\n",
        "    words = word_tokenize(review_with_no_html)\n",
        "    #remove punctuation\n",
        "    punctuation = set(string.punctuation)\n",
        "    words = [word for word in words if word not in punctuation]\n",
        "    #remove stopwords\n",
        "    sw = set(stopwords.words(\"english\"))\n",
        "    words = [word for word in words if word.lower() not in sw]\n",
        "    #remove non-alphabetic words\n",
        "    words = [word for word in words if word.isalpha()]\n",
        "    #using SnowBallStemmer to stem each word\n",
        "    snowball = SnowballStemmer(language = 'english')\n",
        "    stemmed_words = [snowball.stem(word) for word in words]\n",
        "\n",
        "    preprocessed_review = ' '.join(stemmed_words)\n",
        "    return preprocessed_review"
      ],
      "metadata": {
        "id": "H9Hjn8DYw3Dq"
      },
      "execution_count": 7,
      "outputs": []
    },
    {
      "cell_type": "code",
      "source": [
        "reviews = reviews.apply(preprocess_text)\n",
        "print(reviews.head())\n",
        "print(reviews.shape)"
      ],
      "metadata": {
        "colab": {
          "base_uri": "https://localhost:8080/"
        },
        "id": "gj9CF4jsx26y",
        "outputId": "a504b940-8599-4a28-eef0-df4c4958d824"
      },
      "execution_count": 8,
      "outputs": [
        {
          "output_type": "stream",
          "name": "stderr",
          "text": [
            "<ipython-input-7-000fe7f6abf3>:3: MarkupResemblesLocatorWarning: The input looks more like a filename than markup. You may want to open this file and pass the filehandle into Beautiful Soup.\n",
            "  soup = BeautifulSoup(review, 'html.parser')\n"
          ]
        },
        {
          "output_type": "stream",
          "name": "stdout",
          "text": [
            "0    one review mention watch oz episod hook right ...\n",
            "1    wonder littl product film techniqu fashion giv...\n",
            "2    thought wonder way spend time hot summer weeke...\n",
            "3    basic famili littl boy jake think zombi closet...\n",
            "4    petter mattei love time money visual stun film...\n",
            "Name: review, dtype: object\n",
            "(8000,)\n"
          ]
        }
      ]
    },
    {
      "cell_type": "markdown",
      "source": [
        "Prepare Data For Neutral Network"
      ],
      "metadata": {
        "id": "B5xWsMbL4jWF"
      }
    },
    {
      "cell_type": "code",
      "source": [
        "bag_of_words_tool = CountVectorizer(max_df=0.8)\n",
        "reviews_with_bagOfWords = bag_of_words_tool.fit_transform(reviews)\n",
        "print(reviews_with_bagOfWords.shape)\n",
        "print(type(reviews_with_bagOfWords))"
      ],
      "metadata": {
        "colab": {
          "base_uri": "https://localhost:8080/"
        },
        "id": "vOCxualiyNDR",
        "outputId": "8639d066-3278-45a1-997e-41bdae97c081"
      },
      "execution_count": 9,
      "outputs": [
        {
          "output_type": "stream",
          "name": "stdout",
          "text": [
            "(8000, 30955)\n",
            "<class 'scipy.sparse._csr.csr_matrix'>\n"
          ]
        }
      ]
    },
    {
      "cell_type": "code",
      "source": [
        "temp = pd.DataFrame.sparse.from_spmatrix(reviews_with_bagOfWords)\n",
        "print(temp.shape)\n",
        "print(type(temp))"
      ],
      "metadata": {
        "colab": {
          "base_uri": "https://localhost:8080/"
        },
        "id": "rLS73vfjB7dY",
        "outputId": "dd1b63c7-5db8-4e95-998d-8195069e4e3f"
      },
      "execution_count": 10,
      "outputs": [
        {
          "output_type": "stream",
          "name": "stdout",
          "text": [
            "(8000, 30955)\n",
            "<class 'pandas.core.frame.DataFrame'>\n"
          ]
        }
      ]
    },
    {
      "cell_type": "code",
      "source": [
        "label_encoder = LabelEncoder()\n",
        "encoded_sentiment = label_encoder.fit_transform(sentiment)\n",
        "print(encoded_sentiment.shape)\n",
        "print(encoded_sentiment)"
      ],
      "metadata": {
        "colab": {
          "base_uri": "https://localhost:8080/"
        },
        "id": "mHMNMCqL5o1e",
        "outputId": "2f4a0dce-529a-4be5-d4a2-5ba133fc05f7"
      },
      "execution_count": 11,
      "outputs": [
        {
          "output_type": "stream",
          "name": "stdout",
          "text": [
            "(8000,)\n",
            "[1 1 1 ... 1 0 0]\n"
          ]
        }
      ]
    },
    {
      "cell_type": "code",
      "source": [
        "x_train, x_test, y_train, y_test = train_test_split(temp, encoded_sentiment, random_state=3, train_size=0.70)\n",
        "print('training_set x size: ', x_train.shape)\n",
        "print('training_set y size: ', y_train.shape)\n",
        "print('testing_set x size: ', x_test.shape)\n",
        "print('testing_set y size: ', y_test.shape)"
      ],
      "metadata": {
        "colab": {
          "base_uri": "https://localhost:8080/"
        },
        "id": "q0InzjSe6MtX",
        "outputId": "525f958b-ca75-4b3e-b973-6b95a2e15d58"
      },
      "execution_count": 12,
      "outputs": [
        {
          "output_type": "stream",
          "name": "stdout",
          "text": [
            "training_set x size:  (5600, 30955)\n",
            "training_set y size:  (5600,)\n",
            "testing_set x size:  (2400, 30955)\n",
            "testing_set y size:  (2400,)\n"
          ]
        }
      ]
    },
    {
      "cell_type": "markdown",
      "source": [
        "Time To Apply Neutral Network"
      ],
      "metadata": {
        "id": "VvXWqCqh6YE3"
      }
    },
    {
      "cell_type": "code",
      "source": [
        "model = tf.keras.Sequential ([\n",
        "    tf.keras.layers.Dense (32, activation = 'relu', input_shape=(x_train.shape[1],), kernel_regularizer=regularizers.l2(0.30)),\n",
        "    tf.keras.layers.Dense (2, activation = 'softmax')\n",
        "])"
      ],
      "metadata": {
        "id": "0brksLE66XM9"
      },
      "execution_count": 31,
      "outputs": []
    },
    {
      "cell_type": "code",
      "source": [
        "model.compile (tf.keras.optimizers.Adam (learning_rate = 0.0001),\n",
        "               loss = tf.keras.losses.SparseCategoricalCrossentropy(from_logits =True),\n",
        "               metrics = ['accuracy'])"
      ],
      "metadata": {
        "id": "M5rTU3gB6ed6"
      },
      "execution_count": 32,
      "outputs": []
    },
    {
      "cell_type": "code",
      "source": [
        "model.summary ()"
      ],
      "metadata": {
        "id": "4W8N0fpy6hj9",
        "colab": {
          "base_uri": "https://localhost:8080/"
        },
        "outputId": "0a6e4362-e6b2-4c49-b239-3408046f3882"
      },
      "execution_count": 33,
      "outputs": [
        {
          "output_type": "stream",
          "name": "stdout",
          "text": [
            "Model: \"sequential_4\"\n",
            "_________________________________________________________________\n",
            " Layer (type)                Output Shape              Param #   \n",
            "=================================================================\n",
            " dense_12 (Dense)            (None, 32)                990592    \n",
            "                                                                 \n",
            " dense_13 (Dense)            (None, 2)                 66        \n",
            "                                                                 \n",
            "=================================================================\n",
            "Total params: 990,658\n",
            "Trainable params: 990,658\n",
            "Non-trainable params: 0\n",
            "_________________________________________________________________\n"
          ]
        }
      ]
    },
    {
      "cell_type": "code",
      "source": [
        "model.fit (x_train, y_train, epochs = 2)"
      ],
      "metadata": {
        "id": "tl-b-Tla6kNW"
      },
      "execution_count": null,
      "outputs": []
    },
    {
      "cell_type": "code",
      "source": [
        "model.evaluate (x_test, y_test)"
      ],
      "metadata": {
        "id": "YjvSY5AS6u2x"
      },
      "execution_count": null,
      "outputs": []
    },
    {
      "cell_type": "code",
      "source": [],
      "metadata": {
        "id": "4FOxxuAxXXfj"
      },
      "execution_count": null,
      "outputs": []
    }
  ]
}